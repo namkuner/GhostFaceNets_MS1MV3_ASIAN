{
 "cells": [
  {
   "cell_type": "code",
   "execution_count": 1,
   "id": "c7d98bfa-9bd9-4ba8-a104-1176aab95990",
   "metadata": {},
   "source": [
    "!git clone https://github.com/namkuner/GhostFaceNets_MS1MV3_ASIAN.git"
   ],
   "outputs": []
  },
  {
   "cell_type": "code",
   "execution_count": 1,
   "id": "43055982-2ede-4030-91a7-de28804cac93",
   "metadata": {},
   "source": [
    "import os\n",
    "os.chdir(\"/workspace/GhostFaceNets_MS1MV3_ASIAN\")"
   ],
   "outputs": []
  },
  {
   "cell_type": "code",
   "execution_count": 4,
   "id": "d1f63697-ac8e-436c-b59e-cae78218d9dc",
   "metadata": {},
   "source": [
    "!pip install torch==1.13.1+cu116 torchvision==0.14.1+cu116 torchaudio==0.13.1 --extra-index-url https://download.pytorch.org/whl/cu116\n"
   ],
   "outputs": []
  },
  {
   "cell_type": "code",
   "execution_count": 3,
   "id": "d9488104-8e48-4dd7-b480-932da03506e1",
   "metadata": {},
   "source": [
    "!pip install -r requirements.txt"
   ],
   "outputs": []
  },
  {
   "cell_type": "code",
   "execution_count": 4,
   "id": "c385106c-c89f-4f33-85e7-511ded7755e6",
   "metadata": {},
   "source": [
    "!wget https://huggingface.co/datasets/namkuner/namkuner_face_dataset/resolve/main/ms1-mv3-asian-face.zip?download=true"
   ],
   "outputs": []
  },
  {
   "cell_type": "code",
   "execution_count": 9,
   "id": "6e0badcb-5a96-4b9b-b72e-a50829a2cdb3",
   "metadata": {},
   "source": [
    "!sudo apt-get install unzip"
   ],
   "outputs": []
  },
  {
   "cell_type": "code",
   "execution_count": 10,
   "id": "df58e02f-7c98-4275-964b-85dac728c7de",
   "metadata": {},
   "source": [
    "!unzip ms1-mv3-asian-face.zip?download=true"
   ],
   "outputs": []
  },
  {
   "cell_type": "code",
   "execution_count": 6,
   "id": "2bd44729-1d39-40e8-bad0-c61442a521b4",
   "metadata": {},
   "source": [
    "!wget https://huggingface.co/datasets/namkuner/namkuner_face_dataset/resolve/main/VILFWCut.zip?download=true"
   ],
   "outputs": []
  },
  {
   "cell_type": "code",
   "execution_count": 11,
   "id": "a77eda01-831e-48b8-8206-9f46bcbae4fe",
   "metadata": {},
   "source": [
    "!unzip VILFWCut.zip?download=true"
   ],
   "outputs": []
  },
  {
   "cell_type": "code",
   "execution_count": 4,
   "id": "eeaa440b-0d53-4d72-a1f3-96e1cdc7bfca",
   "metadata": {},
   "source": [
    "!sudo apt-get update && apt-get install ffmpeg libsm6 libxext6  -y"
   ],
   "outputs": []
  },
  {
   "cell_type": "code",
   "execution_count": 6,
   "id": "a30b846d-7454-4f29-8e27-af2b52f9132d",
   "metadata": {},
   "source": [
    "import os\n",
    "os.getcwd()\n"
   ],
   "outputs": []
  },
  {
   "cell_type": "code",
   "execution_count": 3,
   "id": "7b2f5569-1303-48cf-9b42-692cd43d2028",
   "metadata": {},
   "source": [
    "import os\n",
    "os.chdir(\"/workspace/GhostFaceNets_MS1MV3_ASIAN\")"
   ],
   "outputs": []
  },
  {
   "cell_type": "code",
   "execution_count": null,
   "id": "595e886c-c696-40d4-a53a-55c7660168e5",
   "metadata": {},
   "source": [
    "from configs.ghostfacenets import config\n",
    "from train import main\n",
    "import torch\n",
    "print(config.lr)\n",
    "torch.backends.cudnn.benchmark = True\n",
    "main(config)"
   ],
   "outputs": []
  },
  {
   "cell_type": "code",
   "execution_count": 8,
   "id": "434568fc-266f-4ca5-a080-6c3093d3a07c",
   "metadata": {},
   "source": [
    "!pip install tensorboard"
   ],
   "outputs": []
  },
  {
   "cell_type": "code",
   "execution_count": 10,
   "id": "f6427bde-d11b-4ad6-8f91-011f941804c7",
   "metadata": {},
   "source": [
    "!sudo apt-get install libopenblas-dev"
   ],
   "outputs": []
  },
  {
   "cell_type": "code",
   "execution_count": null,
   "id": "ea54a06d-3762-42a3-b3ec-dbc48bf08663",
   "metadata": {},
   "source": [],
   "outputs": []
  }
 ],
 "metadata": {
  "kernelspec": {
   "display_name": "Python 3 (ipykernel)",
   "language": "python",
   "name": "python3"
  },
  "language_info": {
   "codemirror_mode": {
    "name": "ipython",
    "version": 3
   },
   "file_extension": ".py",
   "mimetype": "text/x-python",
   "name": "python",
   "nbconvert_exporter": "python",
   "pygments_lexer": "ipython3",
   "version": "3.10.8"
  }
 },
 "nbformat": 4,
 "nbformat_minor": 5
}
